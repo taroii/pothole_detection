{
 "cells": [
  {
   "attachments": {},
   "cell_type": "markdown",
   "metadata": {},
   "source": [
    "# Pothole Recognition\n",
    "### By Taro Iyadomi\n",
    "##### March 7 - \n",
    "\n",
    "This project is part of AI Camp's Summer 2023 Data Science Internship training program. The goal of this project is to build a computer vision application from start to finish, using technologies like SerpAPI, ... , all in Python.  \n",
    "\n",
    "Using images of roads with potholes and without potholes, the goal of our model is to detect the existence of potholes in those images. Naturally, these images have varying degrees of pothole-intensity (ie how big the pothole is), so we can enhance this model to classify the potholes into different intensity categories, as well as calculate their likelihoods of causing tire damage for sedans, crossovers, SUVs, etc.  \n",
    "\n",
    "As we see many companies collecting street data for self-driving cars, perhaps some of that data can be utilized by local governmental organizations to help improve the condition of roads by being able to quantify which roads need the most care (we can use # of potholes or average pothole intensity) as well as where these potholes occur. For example, this can be done using Google’s Streetview, since we can use images of roads for our model and map those results to specific streets to help accomplish this task.  "
   ]
  },
  {
   "attachments": {},
   "cell_type": "markdown",
   "metadata": {},
   "source": [
    "### Part I. Collecting Data\n",
    "\n",
    "Using SerpAPI, I'll scrape road images off of Google Images to be used in the model training process later on.  "
   ]
  },
  {
   "cell_type": "code",
   "execution_count": 1,
   "metadata": {},
   "outputs": [],
   "source": [
    "from serp_function import serpapi_get_google_images"
   ]
  },
  {
   "cell_type": "code",
   "execution_count": 3,
   "metadata": {},
   "outputs": [
    {
     "name": "stdout",
     "output_type": "stream",
     "text": [
      "https://serpapi.com/search\n",
      "https://serpapi.com/search\n",
      "Downloading image number 1...\n",
      "Downloading image number 2...\n",
      "Downloading image number 3...\n",
      "Downloading image number 4...\n",
      "Downloading image number 5...\n",
      "Downloading image number 6...\n",
      "Downloading image number 7...\n",
      "Downloading image number 8...\n",
      "Downloading image number 9...\n",
      "Downloading image number 10...\n",
      "Downloading image number 11...\n",
      "Downloading image number 12...\n",
      "Downloading image number 13...\n",
      "Downloading image number 14...\n",
      "Downloading image number 15...\n",
      "Downloading image number 16...\n",
      "Downloading image number 17...\n",
      "Downloading image number 18...\n",
      "Downloading image number 19...\n",
      "Downloading image number 20...\n",
      "Downloading image number 21...\n",
      "Downloading image number 22...\n",
      "Downloading image number 23...\n",
      "Downloading image number 24...\n",
      "Downloading image number 25...\n",
      "Downloading image number 26...\n",
      "Downloading image number 27...\n"
     ]
    }
   ],
   "source": [
    "queries = [\"pothole\", \"road\"]\n",
    "\n",
    "serpapi_get_google_images(queries, \"C:/Users/Polar/Downloads/AI_Camp/images\", verbose=True, max_images=10)"
   ]
  },
  {
   "cell_type": "code",
   "execution_count": null,
   "metadata": {},
   "outputs": [],
   "source": []
  },
  {
   "cell_type": "code",
   "execution_count": null,
   "metadata": {},
   "outputs": [],
   "source": []
  }
 ],
 "metadata": {
  "kernelspec": {
   "display_name": "webscrape",
   "language": "python",
   "name": "python3"
  },
  "language_info": {
   "codemirror_mode": {
    "name": "ipython",
    "version": 3
   },
   "file_extension": ".py",
   "mimetype": "text/x-python",
   "name": "python",
   "nbconvert_exporter": "python",
   "pygments_lexer": "ipython3",
   "version": "3.10.9"
  },
  "orig_nbformat": 4
 },
 "nbformat": 4,
 "nbformat_minor": 2
}
